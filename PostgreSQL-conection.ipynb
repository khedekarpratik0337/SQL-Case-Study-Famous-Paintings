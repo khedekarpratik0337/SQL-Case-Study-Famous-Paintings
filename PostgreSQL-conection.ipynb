{
 "cells": [
  {
   "cell_type": "code",
   "execution_count": 10,
   "metadata": {},
   "outputs": [],
   "source": [
    "# Importing Libraries\n",
    "import pandas as pd\n",
    "from sqlalchemy import create_engine"
   ]
  },
  {
   "cell_type": "code",
   "execution_count": 11,
   "metadata": {},
   "outputs": [],
   "source": [
    "# Credentials for establishing connection to PostgreSQL\n",
    "dbname = 'db1'\n",
    "user = 'admin'\n",
    "password = 'admin'\n",
    "host = 'localhost'\n",
    "port = '5432'\n",
    "engine = create_engine(f'postgresql://{user}:{password}@{host}:{port}/{dbname}')"
   ]
  },
  {
   "cell_type": "code",
   "execution_count": 12,
   "metadata": {},
   "outputs": [],
   "source": [
    "# Optimise Way to Load data;\n",
    "files = ['artist','canvas_size','image_link','museum_hours','museum','product_size','subject','work']\n",
    "for file in files:\n",
    "    df = pd.read_csv(f'./Raw-Data/{file}.csv')\n",
    "    df.to_sql(file,con=engine,if_exists='replace',index=False)"
   ]
  },
  {
   "cell_type": "code",
   "execution_count": null,
   "metadata": {},
   "outputs": [],
   "source": []
  }
 ],
 "metadata": {
  "kernelspec": {
   "display_name": "base",
   "language": "python",
   "name": "python3"
  },
  "language_info": {
   "codemirror_mode": {
    "name": "ipython",
    "version": 3
   },
   "file_extension": ".py",
   "mimetype": "text/x-python",
   "name": "python",
   "nbconvert_exporter": "python",
   "pygments_lexer": "ipython3",
   "version": "3.9.12"
  },
  "orig_nbformat": 4,
  "vscode": {
   "interpreter": {
    "hash": "bd1d1b8e06ca59b6bfc0e38967132572ea7c14d9798b2622978e9de77f31003a"
   }
  }
 },
 "nbformat": 4,
 "nbformat_minor": 2
}
